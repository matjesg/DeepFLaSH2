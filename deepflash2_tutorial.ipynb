{
  "nbformat": 4,
  "nbformat_minor": 0,
  "metadata": {
    "colab": {
      "name": "DeepFLaSH.ipynb",
      "provenance": [],
      "collapsed_sections": [],
      "toc_visible": true,
      "include_colab_link": true
    },
    "kernelspec": {
      "display_name": "Python 3",
      "language": "python",
      "name": "python3"
    },
    "accelerator": "GPU"
  },
  "cells": [
    {
      "cell_type": "markdown",
      "metadata": {
        "id": "view-in-github",
        "colab_type": "text"
      },
      "source": [
        "<a href=\"https://colab.research.google.com/github/nicoelbert/deepflash2/blob/master/deepflash2_tutorial.ipynb\" target=\"_parent\"><img src=\"https://colab.research.google.com/assets/colab-badge.svg\" alt=\"Open In Colab\"/></a>"
      ]
    },
    {
      "metadata": {
        "collapsed": true,
        "id": "EzVJo3rXc_cq"
      },
      "cell_type": "markdown",
      "source": [
        "This notebook is optmizied to be executed on Google Colab (https://colab.research.google.com).\n",
        "\n",
        "\n",
        "*   Please read the instructions carefully.\n",
        "*   Press the the *play* butten to execute the cells. It will show up between \\[     \\] on the left side of the code cells. \n",
        "*   Run the cells consecutively.\n",
        "\n",
        "**Note:** You can predict your images without fine-tuning the model. For this, skip the Section 2  *Train model on the new data*."
      ]
    },
    {
      "metadata": {
        "colab_type": "toc",
        "id": "-KuRASf8KdW2"
      },
      "cell_type": "markdown",
      "source": [
        ">[Configuration](#scrollTo=rPRgwBd5tmGp)\n",
        "\n",
        ">[Train model on the new data](#scrollTo=6e59NnbQc_dL)\n",
        "\n",
        ">>[Provide image training data](#scrollTo=V1588m6AtbhK)\n",
        "\n",
        ">>>[Upload your images and masks (segmentation maps)](#scrollTo=5pLJdaY1Ymmh)\n",
        "\n",
        ">>>[Use example images](#scrollTo=JL0NWpOYPaG5)\n",
        "\n",
        ">>>[Plot images and masks](#scrollTo=SftSn-iuPjR2)\n",
        "\n",
        ">>[Model training](#scrollTo=fV6yuPVuuL9P)\n",
        "\n",
        ">>>[Check results on train data](#scrollTo=hv5bXNnJc_dX)\n",
        "\n",
        ">[Create segmentation maps for new images](#scrollTo=MAVMhDs1c_dg)\n",
        "\n",
        ">>[Compare segmentation results](#scrollTo=Tg09Afx3Mwra)\n",
        "\n",
        ">>[Download results](#scrollTo=NZ7kRhs9c_ds)\n",
        "\n"
      ]
    },
    {
      "metadata": {
        "id": "rPRgwBd5tmGp"
      },
      "cell_type": "markdown",
      "source": [
        "# Configuration\n",
        "In this section, you will set up the training environment and choose your base model."
      ]
    },
    {
      "metadata": {
        "id": "UCPo3P9Mc_c0",
        "cellView": "form"
      },
      "cell_type": "code",
      "source": [
        "#@title Set up DeepFLaSH on Google Colab\n",
        "#@markdown Please run this cell to get started.\n",
        "!git clone https://github.com/matjesg/DeepFLaSH.git\n",
        "import os\n",
        "import sys\n",
        "ROOT_DIR = os.path.abspath(\"DeepFLaSH\")\n",
        "sys.path.append(ROOT_DIR)\\\n",
        "    \n",
        "import numpy as np\n",
        "from unet import utils\n",
        "from unet import colab_utils\n",
        "from unet import sim_measures\n",
        "from google.colab import files"
      ],
      "execution_count": null,
      "outputs": []
    },
    {
      "cell_type": "markdown",
      "source": [
        ""
      ],
      "metadata": {
        "id": "05RzjPKMDdNE"
      }
    },
    {
      "metadata": {
        "id": "c5ICgEznc_dB"
      },
      "cell_type": "markdown",
      "source": [
        "**Choose base model**\n",
        "\n",
        "Look at the images and masks (segmentation maps) below. Which are more similar to yours?"
      ]
    },
    {
      "metadata": {
        "id": "iRD035oENxhu"
      },
      "cell_type": "markdown",
      "source": [
        "* [cFOS_Wue](https://drive.google.com/open?id=1u1jAqxRpQh2hjE0W2vdHNCyhQsM5uAis): \n",
        "Trained on 36 image-mask pairs of cFOS labels in the dorsal hippocampus (including 12 images of each sub-region: dentate gyrus, CA3 and CA1). Masks for training were prepared by five independent experts. Images were acquired using laser-scanning confocal microscopy with a resolution of 1.6 pixel per µm.\n",
        "    \n",
        "    <img src=\"https://raw.githubusercontent.com/matjesg/DeepFLaSH/master/assets/cFOS_Wue.png\" width=\"250\" height=\"250\" alt=\"cFOS_Wue\">\n",
        "    <img src=\"https://raw.githubusercontent.com/matjesg/DeepFLaSH/master/assets/cFOS_Wue_mask.png\" width=\"250\" height=\"250\" alt=\"cFOS_Wue_mask\">\n",
        "\n",
        "* [cFOS_Inns1](https://drive.google.com/open?id=1n6oGHaIvhbcBtzrkgWT6igg8ZXSOvE0D): Fine-tuned on [cFOS_Wue](https://drive.google.com/open?id=1u1jAqxRpQh2hjE0W2vdHNCyhQsM5uAis)\n",
        "with five image-mask pairs of cFOS labels in the amygdala. Masks for fine-tuning were prepared by one expert. Images acquired using epifluorescence microscopy with a resolution of 1 pixel per µm.\n",
        "\n",
        "    <img src=\"https://raw.githubusercontent.com/matjesg/DeepFLaSH/master/assets/cFOS_Inns1.png\" width=\"250\" height=\"250\" alt=\"cFOS_Inns1\">\n",
        "    <img src=\"https://raw.githubusercontent.com/matjesg/DeepFLaSH/master/assets/cFOS_Inns1_mask.png\" width=\"250\" height=\"250\" alt=\"cFOS_Inns1_mask\">\n",
        "\n",
        "* [cFOS_Inns2](https://drive.google.com/open?id=1TGxZC93YUP1kp1xmboxl6fJEqU4oDRzP):\n",
        "Fine-tuned on [cFOS_Wue](https://drive.google.com/open?id=1u1jAqxRpQh2hjE0W2vdHNCyhQsM5uAis)\n",
        "with five image-mask pairs of cFOS labels in the infralimbic cortex. Masks for fine-tuning were prepared by one expert. Images acquired using epifluorescence microscopy with a resolution of 2 pixel per µm.\n",
        "\n",
        "    <img src=\"https://raw.githubusercontent.com/matjesg/DeepFLaSH/master/assets/cFOS_Inns2.png\" width=\"250\" height=\"250\" alt=\"cFOS_Inns2\">\n",
        "    <img src=\"https://raw.githubusercontent.com/matjesg/DeepFLaSH/master/assets/cFOS_Inns2_mask.png\" width=\"250\" height=\"250\" alt=\"cFOS_Inns2_mask\">\n",
        "\n",
        "* [cFOS_Mue](https://drive.google.com/open?id=1GFOsnLFY8nKDVcBTX7MvMTjoiYfhs91b):\n",
        "Fine-tuned on [cFOS_Wue](https://drive.google.com/open?id=1u1jAqxRpQh2hjE0W2vdHNCyhQsM5uAis)\n",
        "with five image-mask pairs of cFOS labels in the paraventricular nucleus of the thalamus. Masks for fine-tuning were prepared by one expert. Images acquired using laser-scanning confocal microscopy with a resolution of 0.8 pixel per µm.\n",
        "\n",
        "    <img src=\"https://raw.githubusercontent.com/matjesg/DeepFLaSH/master/assets/cFOS_Mue.png\" width=\"250\" height=\"250\" alt=\"cFOS_Mue\">\n",
        "    <img src=\"https://raw.githubusercontent.com/matjesg/DeepFLaSH/master/assets/cFOS_Mue_mask.png\" width=\"250\" height=\"250\" alt=\"cFOS_Mue_mask\">\n",
        "\n",
        "* [Parv](https://drive.google.com/open?id=1VtxyOXhuYVDAC8pkzx3SG9sZfvXqHDZI):\n",
        "Trained on 36 image-mask pairs of Parvalbumin-labels in the dorsal hippocampus (including 12 images of each sub-region: dentate gyrus, CA3 and CA1). Masks for training were prepared by five independent experts. Images were acquired using laser-scanning confocal microscopy with a resolution of 1.6 pixel per µm.\n",
        "    \n",
        "    <img src=\"https://raw.githubusercontent.com/matjesg/DeepFLaSH/master/assets/Parv.png\" width=\"250\" height=\"250\" alt=\"Parv\">\n",
        "    <img src=\"https://raw.githubusercontent.com/matjesg/DeepFLaSH/master/assets/Parv_mask.png\" width=\"250\" height=\"250\" alt=\"Parv\">"
      ]
    },
    {
      "metadata": {
        "id": "BOqv3DBfVolt"
      },
      "cell_type": "markdown",
      "source": [
        "**Which model do you want to choose:**\n",
        "\n",
        "* pretrained: 'cFOS_Wue', 'cFOS_Inns1', 'cFOS_Inns2', 'cFOS_Mue' or 'Parv'\n",
        "* untrained model (no pretrained weights): 'new'"
      ]
    },
    {
      "metadata": {
        "id": "b0kOHudE0i-I",
        "cellView": "form"
      },
      "cell_type": "code",
      "source": [
        "# run: \"auto\" }\n",
        "\n",
        "Model_name = 'cFOS_Wue' #@param [\"cFOS_Wue\", \"cFOS_Inns1\", \"cFOS_Inns2\", \"cFOS_Mue\", \"Parv\", \"new\"]\n",
        "model = utils.load_unet(Model_name)"
      ],
      "execution_count": null,
      "outputs": []
    },
    {
      "metadata": {
        "id": "6e59NnbQc_dL"
      },
      "cell_type": "markdown",
      "source": [
        "# Train model on the new data \n",
        "In this section, you can train your own model."
      ]
    },
    {
      "metadata": {
        "id": "V1588m6AtbhK"
      },
      "cell_type": "markdown",
      "source": [
        "## Provide image training data\n",
        "Either **upload your own images** or use the **transfer learning images from our repository**."
      ]
    },
    {
      "metadata": {
        "id": "5pLJdaY1Ymmh"
      },
      "cell_type": "markdown",
      "source": [
        "### Upload your images and masks (segmentation maps)\n",
        "The training images and masks should reflect the diversity of your dataset.\n",
        "* For fine-tuning a model, we recommend at least five image-mask pairs.\n",
        "* For training a new model from scratch we recommend about 30 image-mask pairs.\n",
        "* Make sure that both images and masks follow the same naming conventions, e.g. '01_img.tif' and '01_mask.tif'.\n",
        "* Images will be resized to a 1024x1024 pixel resolution (greyscale, one channel).\n",
        "* Typical filetypes are allowed (e.g., tif, png)"
      ]
    },
    {
      "metadata": {
        "id": "t-Z6Or35c_dN",
        "cellView": "form"
      },
      "cell_type": "code",
      "source": [
        "#@markdown Upload images\n",
        "img_names, img_list = colab_utils.upload_files()"
      ],
      "execution_count": null,
      "outputs": []
    },
    {
      "metadata": {
        "id": "LXB8z1wsdfFY",
        "cellView": "form"
      },
      "cell_type": "code",
      "source": [
        "#@markdown Upload segmentation maps (masks)\n",
        "msk_names, msk_list = colab_utils.upload_files()"
      ],
      "execution_count": null,
      "outputs": []
    },
    {
      "metadata": {
        "id": "JL0NWpOYPaG5"
      },
      "cell_type": "markdown",
      "source": [
        "### Use example images "
      ]
    },
    {
      "metadata": {
        "id": "8BopN6H6TY5T",
        "cellView": "form"
      },
      "cell_type": "code",
      "source": [
        "#@markdown Load example images \n",
        "img_names, img_list = colab_utils.load_samples(path = 'transfer_learning/train', suffix = 'new')\n",
        "msk_names, msk_list = colab_utils.load_samples(path = 'transfer_learning/train', suffix = 'expert')"
      ],
      "execution_count": null,
      "outputs": []
    },
    {
      "metadata": {
        "id": "SftSn-iuPjR2"
      },
      "cell_type": "markdown",
      "source": [
        "### Plot images and masks"
      ]
    },
    {
      "metadata": {
        "id": "xe5zVT7HdWTS",
        "cellView": "form"
      },
      "cell_type": "code",
      "source": [
        "#@markdown Check if images and masks are correctly assigned. If not, adjust your filenames and upload the images and masks again. \n",
        "utils.plot_image_and_mask(img_names = img_names, img_list = img_list,\n",
        "                          msk_names = msk_names, msk_list = msk_list)"
      ],
      "execution_count": null,
      "outputs": []
    },
    {
      "metadata": {
        "id": "fV6yuPVuuL9P"
      },
      "cell_type": "markdown",
      "source": [
        "## Model training"
      ]
    },
    {
      "metadata": {
        "id": "j0GDWzBvD1gA",
        "cellView": "form"
      },
      "cell_type": "code",
      "source": [
        "#{ run: \"auto\" }\n",
        "#@title Training duration\n",
        "#@markdown One epoch is when an entire (augemented) dataset is passed through the neural network for training.\n",
        "#@markdown - We recommend about 50 epochs for fine-tuning and at least 100 epochs for a new model.\n",
        "#@markdown - Choose a higher number if your images are very dissimilar to the sample images above.\n",
        "epochs = 50 #@param {type:\"slider\", min:10, max:300, step:5}"
      ],
      "execution_count": null,
      "outputs": []
    },
    {
      "metadata": {
        "id": "m8p-Lf2DdUiC",
        "cellView": "form"
      },
      "cell_type": "code",
      "source": [
        "#@title Train model \n",
        "#@markdown Includes data augmentation (rotation, flipping, shifting) for images and masks\n",
        "train_generator = utils.create_generator(img_list, msk_list)\n",
        "model.fit_generator(train_generator,\n",
        "                    steps_per_epoch=int(np.ceil(len(img_list)/4.)),\n",
        "                    epochs=epochs)"
      ],
      "execution_count": null,
      "outputs": []
    },
    {
      "metadata": {
        "id": "hv5bXNnJc_dX"
      },
      "cell_type": "markdown",
      "source": [
        "### Check results on train data"
      ]
    },
    {
      "metadata": {
        "id": "pPi9xg5Oc_dZ",
        "cellView": "form"
      },
      "cell_type": "code",
      "source": [
        "#@markdown Predict masks with the U-net\n",
        "pred_train = model.predict(np.asarray(img_list))\n",
        "pred_train_list = [pred_train[i] for i in range(pred_train.shape[0])]"
      ],
      "execution_count": null,
      "outputs": []
    },
    {
      "metadata": {
        "id": "xB4dtRWstTT7",
        "cellView": "form"
      },
      "cell_type": "code",
      "source": [
        "#@markdown Calculate Jaccard Similary. The computation of the ROI-wise Jaccard Similarity may take up more time.\n",
        "pixelwise = True #@param {type:\"boolean\"}\n",
        "roiwise = False #@param {type:\"boolean\"}\n",
        "#@markdown The threshold converts the probabilistic model output to a binary segmentation mask. For example, a threshold of 0.5 means that all pixels with a 50% posiitve class probability or more are cosindered to belong to the positive class. \n",
        "threshold = 0.5 #@param {type:\"slider\", min:0, max:1, step:0.01}\n",
        "#@markdown The minimum size (amount pixel) to be cosidered as ROI. Only applies to ROI-wise similarity.\n",
        "min_roi_size = 15 #@param {type:\"slider\", min:1, max:250, step:1}\n",
        "\n",
        "if pixelwise:\n",
        "  jac_pix = [sim_measures.jaccard_pixelwise(a, b, threshold=threshold) for a,b \n",
        "             in zip(pred_train_list, msk_list)]\n",
        "\n",
        "if roiwise:\n",
        "  jac_roi = [sim_measures.jaccard_roiwise(a, b, threshold=threshold, min_roi_pixel=min_roi_size)\n",
        "             for a,b in zip(pred_train_list, msk_list)]\n",
        " \n",
        "if pixelwise and not roiwise:\n",
        "  jac_str = [str('pixelwise %.2f' %pix) for pix in jac_pix]\n",
        "  \n",
        "if roiwise and not pixelwise: \n",
        "  jac_str = [str('ROI-wise %.2f' %roi) for roi in jac_roi]\n",
        "\n",
        "if roiwise and pixelwise:\n",
        "  jac_str = [str('pixelwise %.2f, ROI-wise: %.2f' %(pix,roi)) \n",
        "     for pix,roi in zip(jac_pix, jac_roi)]\n",
        "    \n",
        "_ = [print('Jaccard %s: %s' %(name,s)) for name,s in zip(img_names, jac_str)]"
      ],
      "execution_count": null,
      "outputs": []
    },
    {
      "metadata": {
        "id": "CTYfQ1f6qhR5",
        "cellView": "form"
      },
      "cell_type": "code",
      "source": [
        "#@title Plot all images and joined mask\n",
        "#@markdown The joined mask consists of the manual/expert segmentation mask and U-net prediction.\n",
        "#@markdown Color code:\n",
        "#@markdown - white = merge\n",
        "#@markdown - magenta = U-net only\n",
        "#@markdown - green = original/expert only\n",
        "join_list = [utils.join_masks(pred_train_list[i], msk_list[i]) for i in range(len(msk_list))]\n",
        "utils.plot_image_and_mask(img_names = img_names, img_list = img_list,\n",
        "                          msk_names = jac_str, msk_list = join_list,\n",
        "                          msk_head = 'Jaccard Similarity')   "
      ],
      "execution_count": null,
      "outputs": []
    },
    {
      "metadata": {
        "id": "MAVMhDs1c_dg"
      },
      "cell_type": "markdown",
      "source": [
        "# Create segmentation maps for new images\n",
        "In this section, you can upload unlabelled images and predict the segmentation map (mask)."
      ]
    },
    {
      "metadata": {
        "id": "b-I8qielc_dh",
        "cellView": "form"
      },
      "cell_type": "code",
      "source": [
        "#@title Upload images\n",
        "#@markdown - Images will be resized to a 1024x1024 pixel resolution (greyscale, one channel).\n",
        "#@markdown - Typical filetypes are allowed (e.g., tif, png)\n",
        "img_new_names, img_new_list = colab_utils.upload_files()"
      ],
      "execution_count": null,
      "outputs": []
    },
    {
      "metadata": {
        "id": "DjolgK0xwFJR",
        "cellView": "form"
      },
      "cell_type": "code",
      "source": [
        "#@markdown Predict masks (segmentation maps) with the U-net\n",
        "pred_new = model.predict(np.asarray(img_new_list))\n",
        "pred_new_list = [pred_new[i] for i in range(pred_new.shape[0])]"
      ],
      "execution_count": null,
      "outputs": []
    },
    {
      "metadata": {
        "id": "914cBX-uwMNZ"
      },
      "cell_type": "markdown",
      "source": [
        "**Plot results**\n",
        "Look at the segmentation results of the U-net."
      ]
    },
    {
      "metadata": {
        "id": "VH0dwbjNc_dp",
        "cellView": "form"
      },
      "cell_type": "code",
      "source": [
        "#@title **Plot results**\n",
        "#@markdown Look at the segmentation results of the U-net.\n",
        "utils.plot_image_and_mask(img_names = img_new_names, img_list = img_new_list,\n",
        "                    msk_names = img_new_names, msk_list = pred_new_list)"
      ],
      "execution_count": null,
      "outputs": []
    },
    {
      "metadata": {
        "id": "Tg09Afx3Mwra"
      },
      "cell_type": "markdown",
      "source": [
        "## Compare segmentation results\n",
        "If you already have segmentation maps of the above images at your disposal, you can upload them here for comparison."
      ]
    },
    {
      "metadata": {
        "id": "8hE415j6Mv2X",
        "cellView": "form"
      },
      "cell_type": "code",
      "source": [
        "#@title Upload new segmentation maps (masks)\n",
        "#@markdown - Make sure that both images and masks follow the same naming conventions, e.g. '01_img.tif' and '01_mask.tif'.\n",
        "#@markdown - Images will be resized to a 1024x1024 pixel resolution (greyscale, one channel).\n",
        "msk_new_names, msk_new_list = colab_utils.upload_files()"
      ],
      "execution_count": null,
      "outputs": []
    },
    {
      "metadata": {
        "id": "Rvv6vVBuO5yx",
        "cellView": "form"
      },
      "cell_type": "code",
      "source": [
        "#@title Calculate Jaccard Similarity and plot results\n",
        "#@markdown Color code:\n",
        "#@markdown - white = merge\n",
        "#@markdown - magenta = U-net only\n",
        "#@markdown - green = original/expert only\n",
        "jac_test = utils.jaccard_sim(pred_new_list, msk_new_list)\n",
        "\n",
        "join_new_list = [utils.join_masks(pred_new_list[i], msk_new_list[i]) for i in range(len(msk_list))]\n",
        "utils.plot_image_and_mask(img_names = img_new_names, img_list = img_new_list,\n",
        "                          msk_names = jac_test, msk_list = pred_new_list,\n",
        "                          msk_name = 'Jaccard Similarity')"
      ],
      "execution_count": null,
      "outputs": []
    },
    {
      "metadata": {
        "id": "NZ7kRhs9c_ds"
      },
      "cell_type": "markdown",
      "source": [
        "## Download results"
      ]
    },
    {
      "metadata": {
        "id": "RxNm41uPc_dt",
        "cellView": "form"
      },
      "cell_type": "code",
      "source": [
        "#@markdown Download predicted masks \n",
        "utils.saveMasks(pred_new_list, img_new_names)\n",
        "!zip -r masks.zip masks\n",
        "files.download('masks.zip')"
      ],
      "execution_count": null,
      "outputs": []
    },
    {
      "metadata": {
        "id": "fHNpQHY6CLLN",
        "cellView": "form"
      },
      "cell_type": "code",
      "source": [
        "#@markdown Download the your model\n",
        "new_model_name = Model_name +'_tuned_' + str(epochs) + 'epochs.h5'\n",
        "model.save(new_model_name)\n",
        "files.download(new_model_name)"
      ],
      "execution_count": null,
      "outputs": []
    }
  ]
}