{
 "cells": [
  {
   "cell_type": "markdown",
   "metadata": {
    "hide_input": true
   },
   "source": [
    "# deepflash2\n",
    "> Official repository of DeepFLasH2 - a deep learning pipeline for segmentation of fluorescent labels in microscopy images."
   ]
  },
  {
   "cell_type": "markdown",
   "metadata": {
    "hide_input": true
   },
   "source": [
    " ![CI](https://github.com/matjesg/deepflash2/workflows/CI/badge.svg) [![PyPI](https://img.shields.io/pypi/v/deepflash2?color=blue&label=pypi%20version)](https://pypi.org/project/deepflash2/#description) [![Conda (channel only)](https://img.shields.io/conda/vn/matjesg/deepflash2?color=seagreen&label=conda%20version)](https://anaconda.org/matjesg/deepflash2) [![Build fastai images](https://github.com/matjesg/deepflash2/workflows/Build%20deepflash2%20images/badge.svg)](https://github.com/matjesg/deepflash2)"
   ]
  },
  {
   "cell_type": "markdown",
   "metadata": {},
   "source": [
    "## Why using deepflash2?"
   ]
  },
  {
   "cell_type": "markdown",
   "metadata": {},
   "source": [
    "__The best of two worlds:__\n",
    "Combining state of the art deep learning with a barrier free environment for life science researchers.\n",
    "\n",
    "- End-to-end process for life science researchers\n",
    "    - graphical user interface - no coding skills required\n",
    "    - free usage on _Google Colab_ at no costs\n",
    "    - easy deployment on own hardware\n",
    "- Rigorously evaluated deep learning models\n",
    "    - Model Library\n",
    "    - easy integration new (*pytorch*) models\n",
    "- Best practices model training\n",
    "    - leveraging the _fastai_ library\n",
    "    - mixed precision training\n",
    "    - learning rate finder and fit one cycle policy \n",
    "    - advanced augementation \n",
    "- Reliable prediction on new data\n",
    "    - leveraging Bayesian Uncertainties\n",
    "\n",
    "\n",
    "\n"
   ]
  },
  {
   "cell_type": "markdown",
   "metadata": {},
   "source": [
    "## Workflow"
   ]
  },
  {
   "cell_type": "markdown",
   "metadata": {},
   "source": [
    "tbd"
   ]
  },
  {
   "cell_type": "markdown",
   "metadata": {
    "hide_input": true
   },
   "source": [
    "## Installing\n",
    "\n",
    "You can use **deepflash2** by using [Google Colab](https://colab.research.google.com/github/matjesg/deepflash2/blob/master/nbs/deepflash2.ipynb). You can run every page of the [documentation](matjesg.github.io/deepflash2/) as an interactive notebook - click \"Open in Colab\" at the top of any page to open it.\n",
    " - Be sure to change the Colab runtime to \"GPU\" to have it run fast!\n",
    " - Use Firefox or Google Chrome if you want to upload your images.\n",
    "\n",
    "You can install **deepflash2**  on your own machines with conda (highly recommended):\n",
    "\n",
    "```bash\n",
    "conda install -c fastai -c pytorch -c matjesg deepflash2 \n",
    "```\n",
    "To install with pip, use\n",
    "\n",
    "```bash\n",
    "pip install deepflash2\n",
    "```\n",
    "If you install with pip, you should install PyTorch first by following the PyTorch [installation instructions](https://pytorch.org/get-started/locally/)."
   ]
  },
  {
   "cell_type": "markdown",
   "metadata": {
    "hide_input": true
   },
   "source": [
    "## Using Docker\n",
    "\n",
    "Docker images for __deepflash2__ are built on top of [the latest pytorch image](https://hub.docker.com/r/pytorch/pytorch/) and [fastai](https://github.com/fastai/docker-containers) images. **You must install [Nvidia-Docker](https://github.com/NVIDIA/nvidia-docker) to enable gpu compatibility with these containers.**\n",
    "\n",
    "- CPU only\n",
    "\n",
    "> `docker run -p 8888:8888 matjesg/deepflash`\n",
    "\n",
    "- With GPU support ([Nvidia-Docker](https://github.com/NVIDIA/nvidia-docker) must be installed.)\n",
    "has an editable install of fastai and fastcore.\n",
    "\n",
    "> `docker run --gpus all -p 8888:8888 matjesg/deepflash`\n",
    "\n",
    "All docker containers are configured to start a jupyter server. **deepflash2** notebooks are available in the `deepflash2_notebooks` folder.\n",
    "\n",
    "For more information on how to run docker see [docker orientation and setup](https://docs.docker.com/get-started/) and [fastai docker](https://github.com/fastai/docker-containers)."
   ]
  },
  {
   "cell_type": "markdown",
   "metadata": {
    "hide_input": true
   },
   "source": [
    "## Model Library\n",
    "\n",
    "We provide a model library with pretrained model weights. Visit our [model library documentation](https://matjesg.github.io/deepflash2/model_library.html) for information on the datasets of the pretrained models."
   ]
  },
  {
   "cell_type": "markdown",
   "metadata": {},
   "source": [
    "## Creating segmentation masks with Fiji/ImageJ\n",
    "\n",
    "If you don't have labelled training data available, you can use this [instruction manual](https://github.com/matjesg/DeepFLaSH/raw/master/ImageJ/create_maps_howto.pdf) for creating segmentation maps.\n",
    "The ImagJ-Macro is available [here](https://raw.githubusercontent.com/matjesg/DeepFLaSH/master/ImageJ/Macro_create_maps.ijm)."
   ]
  },
  {
   "cell_type": "markdown",
   "metadata": {
    "hide_input": true
   },
   "source": [
    "## Acronym\n",
    "\n",
    "A Deep-learning pipeline for Fluorescent Label Segmentation that learns from Human experts"
   ]
  }
 ],
 "metadata": {
  "kernelspec": {
   "display_name": "Python 3",
   "language": "python",
   "name": "python3"
  }
 },
 "nbformat": 4,
 "nbformat_minor": 4
}