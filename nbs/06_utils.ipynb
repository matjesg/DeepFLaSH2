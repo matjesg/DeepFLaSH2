{
 "cells": [
  {
   "cell_type": "code",
   "execution_count": null,
   "metadata": {},
   "outputs": [],
   "source": [
    "#default_exp utils\n",
    "from nbdev.showdoc import show_doc"
   ]
  },
  {
   "cell_type": "markdown",
   "metadata": {},
   "source": [
    "# Utility functions\n",
    "\n",
    "> Utility functions for deepflash2"
   ]
  },
  {
   "cell_type": "code",
   "execution_count": null,
   "metadata": {},
   "outputs": [],
   "source": [
    "#hide\n",
    "from fastcore.test import *"
   ]
  },
  {
   "cell_type": "code",
   "execution_count": null,
   "metadata": {},
   "outputs": [],
   "source": [
    "#export\n",
    "import sys, subprocess, zipfile, imageio, importlib, skimage, zipfile, os, cv2\n",
    "import numpy as np, pandas as pd\n",
    "from pathlib import Path\n",
    "from scipy import ndimage\n",
    "from scipy.spatial.distance import jaccard\n",
    "from skimage.feature import peak_local_max\n",
    "from skimage.segmentation import clear_border\n",
    "from skimage.measure import label\n",
    "from skimage.segmentation import relabel_sequential, watershed\n",
    "from scipy.optimize import linear_sum_assignment\n",
    "import matplotlib.pyplot as plt\n",
    "import albumentations as A"
   ]
  },
  {
   "cell_type": "markdown",
   "metadata": {},
   "source": [
    "## Archive Extraction"
   ]
  },
  {
   "cell_type": "code",
   "execution_count": null,
   "metadata": {},
   "outputs": [],
   "source": [
    "#export\n",
    "def unzip(path, zip_file):\n",
    "    \"Unzip and structure archive\"\n",
    "    with zipfile.ZipFile(zip_file, 'r') as zf:\n",
    "        f_names = [x for x in zf.namelist() if '__MACOSX' not in x and not x.endswith('/')]\n",
    "        new_root = np.max([len(Path(f).parts) for f in f_names])-2\n",
    "        for f in f_names:\n",
    "            f_path = path / Path(*Path(f).parts[new_root:])\n",
    "            f_path.parent.mkdir(parents=True, exist_ok=True)\n",
    "            data = zf.read(f)\n",
    "            f_path.write_bytes(data)"
   ]
  },
  {
   "cell_type": "markdown",
   "metadata": {},
   "source": [
    "## Install packages on demand"
   ]
  },
  {
   "cell_type": "code",
   "execution_count": null,
   "metadata": {},
   "outputs": [],
   "source": [
    "#export \n",
    "#from https://stackoverflow.com/questions/12332975/installing-python-module-within-code\n",
    "def install_package(package):\n",
    "    subprocess.check_call([sys.executable, \"-m\", \"pip\", \"install\", package])"
   ]
  },
  {
   "cell_type": "code",
   "execution_count": null,
   "metadata": {},
   "outputs": [],
   "source": [
    "#export\n",
    "def import_package(package):\n",
    "    try:\n",
    "        importlib.import_module(package)\n",
    "    except:\n",
    "        print(f'Installing {package}. Please wait.')\n",
    "        install_package(package)\n",
    "    return importlib.import_module(package)"
   ]
  },
  {
   "cell_type": "code",
   "execution_count": null,
   "metadata": {},
   "outputs": [],
   "source": [
    "#export\n",
    "def compose_albumentations(gamma_limit_lower=0, gamma_limit_upper=0, CLAHE_clip_limit=0., brightness_limit=0, contrast_limit=0., distort_limit=0.):\n",
    "    'Compose albumentations augmentations'\n",
    "    augs = []\n",
    "    if sum([gamma_limit_lower,gamma_limit_upper])>0: \n",
    "        augs.append(A.RandomGamma(gamma_limit=(gamma_limit_lower, gamma_limit_upper), p=0.5))\n",
    "    if CLAHE_clip_limit>0: \n",
    "        augs.append(A.CLAHE(clip_limit=CLAHE_clip_limit))\n",
    "    if sum([brightness_limit,contrast_limit])>0: \n",
    "        augs.append(A.RandomBrightnessContrast(brightness_limit=brightness_limit, contrast_limit=contrast_limit))\n",
    "    if distort_limit>0:\n",
    "        augs.append(A.GridDistortion(num_steps=5, distort_limit=distort_limit, interpolation=1, border_mode=4, p=0.5))\n",
    "    return A.Compose([*augs], p=0.5)"
   ]
  },
  {
   "cell_type": "markdown",
   "metadata": {},
   "source": [
    "## Ensembling"
   ]
  },
  {
   "cell_type": "code",
   "execution_count": null,
   "metadata": {},
   "outputs": [],
   "source": [
    "#export\n",
    "def ensemble_results(res_dict, file, std=False):\n",
    "    \"Combines single model predictions.\"\n",
    "    idx = 2 if std else 0\n",
    "    a = [np.array(res_dict[(mod, f)][idx]) for mod, f in res_dict if f==file]\n",
    "    a = np.mean(a, axis=0)\n",
    "    if std:\n",
    "        a = a[...,0]\n",
    "    else:\n",
    "        a = np.argmax(a, axis=-1) \n",
    "    return a"
   ]
  },
  {
   "cell_type": "code",
   "execution_count": null,
   "metadata": {},
   "outputs": [],
   "source": [
    "#export\n",
    "def plot_results(*args, df, hastarget=False, model=None, unc_metric=None, figsize=(20, 20), **kwargs):\n",
    "    \"Plot images, (masks), predictions and uncertainties side-by-side.\"\n",
    "    if len(args)==4:\n",
    "        img, msk, pred, pred_std = args\n",
    "    elif len(args)==3 and not hastarget:\n",
    "        img, pred, pred_std = args\n",
    "    elif len(args)==3:\n",
    "        img, msk, pred = args\n",
    "    elif len(args)==2:\n",
    "        img, pred = args\n",
    "    else: raise NotImplementedError\n",
    "    fig, axs = plt.subplots(nrows=1, ncols=len(args), figsize=figsize, **kwargs)\n",
    "    #One channel fix\n",
    "    if img.ndim == 3 and img.shape[-1] == 1: \n",
    "        img=img[...,0]\n",
    "    axs[0].imshow(img)\n",
    "    axs[0].set_axis_off()\n",
    "    axs[0].set_title(f'File {df.file}')\n",
    "    unc_title = f'Uncertainty \\n {unc_metric}: {df[unc_metric]:.3f}' if unc_metric else 'Uncertainty'\n",
    "    pred_title = 'Prediction' if model is None else f'Prediction {model}'\n",
    "    if len(args)==4: \n",
    "        axs[1].imshow(msk)\n",
    "        axs[1].set_axis_off()\n",
    "        axs[1].set_title('Target')\n",
    "        axs[2].imshow(pred)\n",
    "        axs[2].set_axis_off()\n",
    "        axs[2].set_title(f'{pred_title} \\n IoU: {df.iou:.2f}')\n",
    "        axs[3].imshow(pred_std)\n",
    "        axs[3].set_axis_off()\n",
    "        axs[3].set_title(unc_title)\n",
    "    elif len(args)==3 and not hastarget: \n",
    "        axs[1].imshow(pred)\n",
    "        axs[1].set_axis_off()\n",
    "        axs[1].set_title(pred_title)\n",
    "        axs[2].imshow(pred_std)\n",
    "        axs[2].set_axis_off()\n",
    "        axs[2].set_title(unc_title)\n",
    "    elif len(args)==3: \n",
    "        axs[1].imshow(msk)\n",
    "        axs[1].set_axis_off()\n",
    "        axs[1].set_title('Target')\n",
    "        axs[2].imshow(pred)\n",
    "        axs[2].set_axis_off()\n",
    "        axs[2].set_title(f'{pred_title} \\n IoU: {df.iou:.2f}')\n",
    "    elif len(args)==2: \n",
    "        axs[1].imshow(pred)\n",
    "        axs[1].set_axis_off()\n",
    "        axs[1].set_title(pred_title)\n",
    "    plt.show()"
   ]
  },
  {
   "cell_type": "markdown",
   "metadata": {},
   "source": [
    "## Pixelwise Analysis"
   ]
  },
  {
   "cell_type": "code",
   "execution_count": null,
   "metadata": {},
   "outputs": [
    {
     "data": {
      "image/png": "[encoded data removed]",
      "text/plain": [
       "<Figure size 432x288 with 2 Axes>"
      ]
     },
     "metadata": {
      "needs_background": "light"
     },
     "output_type": "display_data"
    }
   ],
   "source": [
    "#hide\n",
    "# Generate an initial random image and mask with two circles\n",
    "x, y = np.indices((80, 80))\n",
    "x1, y1, x2, y2 = 28, 28, 44, 52\n",
    "r1, r2 = 7, 20\n",
    "mask_circle1 = (x - x1) ** 2 + (y - y1) ** 2 < r1 ** 2\n",
    "mask_circle2 = (x - x2) ** 2 + (y - y2) ** 2 < r2 ** 2\n",
    "mask = np.logical_or(mask_circle1, mask_circle2)\n",
    "empty_mask = np.zeros_like(mask)\n",
    "fig, axs = plt.subplots(nrows=1, ncols=2)\n",
    "axs[0].imshow(mask)\n",
    "axs[0].set_axis_off()\n",
    "axs[0].set_title('Mask')\n",
    "axs[1].imshow(empty_mask)\n",
    "axs[1].set_axis_off()\n",
    "axs[1].set_title('Empty Mask');"
   ]
  },
  {
   "cell_type": "code",
   "execution_count": null,
   "metadata": {},
   "outputs": [],
   "source": [
    "#export\n",
    "def iou(a,b,threshold=0.5):\n",
    "    '''Computes the Intersection-Over-Union metric.'''\n",
    "    a = np.array(a) > threshold\n",
    "    b = np.array(b) > threshold\n",
    "    overlap = a*b # Logical AND\n",
    "    union = a+b # Logical OR\n",
    "    return np.divide(np.count_nonzero(overlap),np.count_nonzero(union))"
   ]
  },
  {
   "cell_type": "code",
   "execution_count": null,
   "metadata": {},
   "outputs": [],
   "source": [
    "test_eq(iou(mask, mask), 1)\n",
    "test_eq(iou(mask, empty_mask), 0)"
   ]
  },
  {
   "cell_type": "markdown",
   "metadata": {},
   "source": [
    "## ROI-wise Analysis"
   ]
  },
  {
   "cell_type": "code",
   "execution_count": null,
   "metadata": {},
   "outputs": [],
   "source": [
    "#export\n",
    "def label_mask(mask, threshold=0.5, min_pixel=15, do_watershed=False, exclude_border=False):\n",
    "    '''Analyze regions and return labels'''\n",
    "    if mask.ndim == 3:\n",
    "        mask = np.squeeze(mask, axis=2)\n",
    "\n",
    "    # apply threshold to mask\n",
    "    # bw = closing(mask > threshold, square(2))\n",
    "    bw = (mask > threshold).astype(int)\n",
    "\n",
    "    # label image regions\n",
    "    label_image = label(bw, connectivity=2) # Falk p.13, 8-“connectivity”.\n",
    "\n",
    "    # Watershed: Separates objects in image by generate the markers\n",
    "    # as local maxima of the distance to the background\n",
    "    if do_watershed:\n",
    "        distance = ndimage.distance_transform_edt(bw)\n",
    "        # Minimum number of pixels separating peaks in a region of `2 * min_distance + 1`\n",
    "        # (i.e. peaks are separated by at least `min_distance`)\n",
    "        min_distance = int(np.ceil(np.sqrt(min_pixel / np.pi)))\n",
    "        local_maxi = peak_local_max(distance, indices=False, exclude_border=False,\n",
    "                                    min_distance=min_distance, labels=label_image)\n",
    "        markers = label(local_maxi)\n",
    "        label_image = watershed(-distance, markers, mask=bw)\n",
    "\n",
    "    # remove artifacts connected to image border\n",
    "    if exclude_border:\n",
    "        label_image = clear_border(label_image)\n",
    "\n",
    "    # remove areas < min pixel\n",
    "    unique, counts = np.unique(label_image, return_counts=True)\n",
    "    label_image[np.isin(label_image, unique[counts<min_pixel])] = 0\n",
    "\n",
    "    # re-label image\n",
    "    label_image, _ , _ = relabel_sequential(label_image, offset=1)\n",
    "\n",
    "    return (label_image)"
   ]
  },
  {
   "cell_type": "code",
   "execution_count": null,
   "metadata": {},
   "outputs": [
    {
     "data": {
      "image/png": "[encoded data removed]",
      "text/plain": [
       "<Figure size 432x288 with 1 Axes>"
      ]
     },
     "metadata": {
      "needs_background": "light"
     },
     "output_type": "display_data"
    }
   ],
   "source": [
    "tst_lbl_a = label_mask(mask, min_pixel=0)\n",
    "test_eq(tst_lbl_a.max(), 2)\n",
    "test_eq(tst_lbl_a.min(), 0)\n",
    "plt.imshow(tst_lbl_a);"
   ]
  },
  {
   "cell_type": "code",
   "execution_count": null,
   "metadata": {},
   "outputs": [
    {
     "data": {
      "image/png": "[encoded data removed]",
      "text/plain": [
       "<Figure size 432x288 with 1 Axes>"
      ]
     },
     "metadata": {
      "needs_background": "light"
     },
     "output_type": "display_data"
    }
   ],
   "source": [
    "tst_lbl_b = label_mask(mask, min_pixel=150)\n",
    "test_eq(tst_lbl_b.max(), 1)\n",
    "plt.imshow(tst_lbl_b);"
   ]
  },
  {
   "cell_type": "code",
   "execution_count": null,
   "metadata": {},
   "outputs": [],
   "source": [
    "#export\n",
    "def get_candidates(labels_a, labels_b):\n",
    "    '''Get candiate masks for ROI-wise analysis'''\n",
    "\n",
    "    label_stack = np.dstack((labels_a, labels_b))\n",
    "    cadidates = np.unique(label_stack.reshape(-1, label_stack.shape[2]), axis=0)\n",
    "    # Remove Zero Entries\n",
    "    cadidates = cadidates[np.prod(cadidates, axis=1) > 0]\n",
    "    return(cadidates)"
   ]
  },
  {
   "cell_type": "code",
   "execution_count": null,
   "metadata": {},
   "outputs": [],
   "source": [
    "#export\n",
    "def iou_mapping(labels_a, labels_b):\n",
    "    '''Compare masks using ROI-wise analysis'''\n",
    "\n",
    "    candidates = get_candidates(labels_a, labels_b)\n",
    "\n",
    "    if candidates.size > 0:\n",
    "        # create a similarity matrix\n",
    "        dim_a = np.max(candidates[:,0])+1\n",
    "        dim_b = np.max(candidates[:,1])+1\n",
    "        similarity_matrix = np.zeros((dim_a, dim_b))\n",
    "\n",
    "        for x,y in candidates:\n",
    "            roi_a = (labels_a == x).astype(np.uint8).flatten()\n",
    "            roi_b = (labels_b == y).astype(np.uint8).flatten()\n",
    "            similarity_matrix[x,y] = 1-jaccard(roi_a, roi_b)\n",
    "\n",
    "        row_ind, col_ind = linear_sum_assignment(-similarity_matrix)\n",
    "\n",
    "        return(similarity_matrix[row_ind,col_ind],\n",
    "               row_ind, col_ind,\n",
    "               np.max(labels_a),\n",
    "               np.max(labels_b)\n",
    "               )\n",
    "    else:\n",
    "        return([],\n",
    "               np.nan, np.nan,\n",
    "               np.max(labels_a),\n",
    "               np.max(labels_b)\n",
    "               )"
   ]
  },
  {
   "cell_type": "code",
   "execution_count": null,
   "metadata": {},
   "outputs": [],
   "source": [
    "test_eq(iou_mapping(tst_lbl_a, tst_lbl_a), ([0., 1., 1], [0, 1, 2], [0, 1, 2], 2, 2))\n",
    "test_eq(iou_mapping(tst_lbl_a, tst_lbl_b), ([0., 1.], [0, 2], [0, 1], 2, 1))"
   ]
  },
  {
   "cell_type": "code",
   "execution_count": null,
   "metadata": {},
   "outputs": [],
   "source": [
    "#export\n",
    "def calculate_roi_measures(*masks, iou_threshold=.5, **kwargs):\n",
    "    \"Calculates precision, recall, and f1_score on ROI-level\"\n",
    "    labels = [label_mask(m, **kwargs) for m in masks]\n",
    "    matches_iou, _,_, count_a, count_b = iou_mapping(*labels)\n",
    "    matches = np.sum(np.array(matches_iou) > iou_threshold)\n",
    "    precision =  matches/count_a\n",
    "    recall = matches/count_b\n",
    "    f1_score = 2 * (precision * recall) / (precision + recall)\n",
    "    return recall, precision, f1_score"
   ]
  },
  {
   "cell_type": "code",
   "execution_count": null,
   "metadata": {},
   "outputs": [],
   "source": [
    "test_eq(calculate_roi_measures(mask, mask), (1.0, 1.0, 1.0))\n",
    "test_eq(calculate_roi_measures(mask, mask, min_pixel=150), (1.0, 1.0, 1.0))"
   ]
  },
  {
   "cell_type": "markdown",
   "metadata": {},
   "source": [
    "## ROI Export to ImageJ"
   ]
  },
  {
   "cell_type": "code",
   "execution_count": null,
   "metadata": {},
   "outputs": [],
   "source": [
    "#export\n",
    "def export_roi_set(mask, intensity_image, name='RoiSet', path=Path('.'), ascending=True, min_pixel=0):\n",
    "    \"EXPERIMENTAL: Export mask regions to imageJ ROI Set\"\n",
    "    roifile = import_package('roifile')\n",
    "    _, comps = cv2.connectedComponents(mask.astype('uint8'), connectivity=4)\n",
    "    \n",
    "    props = skimage.measure.regionprops_table(comps, intensity_image, properties=('area', 'coords', 'mean_intensity'))\n",
    "    df_props = pd.DataFrame(props)\n",
    "    df_props = df_props[df_props.area>min_pixel].sort_values('mean_intensity', ascending=ascending).reset_index()\n",
    "    \n",
    "    i = 1\n",
    "    with zipfile.ZipFile(path/f'{name}.zip', mode='w') as myzip:\n",
    "        for _, row in df_props.iterrows():\n",
    "            contours = skimage.measure.find_contours(comps==row['index']+1, level=0.5, fully_connected='low')\n",
    "            for cont in contours: \n",
    "                roi_name = f'{i:04d}-{row.mean_intensity:3f}.roi'\n",
    "                points = np.array([cont[:,1]+0.5, cont[:,0]+0.5]).T\n",
    "                roi = roifile.ImagejRoi.frompoints(points)\n",
    "                roi.tofile(roi_name)\n",
    "                myzip.write(roi_name)    \n",
    "                os.remove(roi_name)\n",
    "                i += 1"
   ]
  },
  {
   "cell_type": "code",
   "execution_count": null,
   "metadata": {},
   "outputs": [],
   "source": [
    "# EXPERIMENTAL, needs more testing\n",
    "export_roi_set(mask, mask)"
   ]
  },
  {
   "cell_type": "markdown",
   "metadata": {},
   "source": [
    "## Miscellaneous"
   ]
  },
  {
   "cell_type": "code",
   "execution_count": null,
   "metadata": {},
   "outputs": [],
   "source": [
    "#export\n",
    "def calc_iterations(n_iter, ds_length, bs):\n",
    "    \"Calculate the number of required epochs for 'n_iter' iterations.\"\n",
    "    iter_per_epoch = ds_length/bs\n",
    "    return int(np.ceil(n_iter/iter_per_epoch))"
   ]
  },
  {
   "cell_type": "code",
   "execution_count": null,
   "metadata": {},
   "outputs": [],
   "source": [
    "test_eq(calc_iterations(100, 8, 4), 50)"
   ]
  },
  {
   "cell_type": "code",
   "execution_count": null,
   "metadata": {},
   "outputs": [],
   "source": [
    "#export\n",
    "def get_label_fn(img_path, msk_dir_path):\n",
    "    'Infers suffix from mask name and return label_fn'\n",
    "    msk_path = [x for x in msk_dir_path.iterdir() if x.name.startswith(img_path.stem)]\n",
    "    mask_suffix = msk_path[0].name[len(img_path.stem):]\n",
    "    return lambda o: msk_dir_path/f'{o.stem}{mask_suffix}'"
   ]
  },
  {
   "cell_type": "code",
   "execution_count": null,
   "metadata": {},
   "outputs": [],
   "source": [
    "#exports\n",
    "def save_mask(mask, path, filetype='.png'):\n",
    "    mask = mask.astype(np.uint8) if np.max(mask)>1 else (mask*255).astype(np.uint8)\n",
    "    imageio.imsave(path.with_suffix(filetype), mask)"
   ]
  },
  {
   "cell_type": "code",
   "execution_count": null,
   "metadata": {},
   "outputs": [],
   "source": [
    "#exports\n",
    "def save_unc(unc, path, filetype='.png'):\n",
    "    unc = (unc/unc.max()*255).astype(np.uint8)\n",
    "    imageio.imsave(path.with_suffix(filetype), unc)"
   ]
  },
  {
   "cell_type": "markdown",
   "metadata": {},
   "source": [
    "## Export -"
   ]
  },
  {
   "cell_type": "code",
   "execution_count": null,
   "metadata": {},
   "outputs": [
    {
     "name": "stdout",
     "output_type": "stream",
     "text": [
      "Converted 00_learner.ipynb.\n",
      "Converted 01_models.ipynb.\n",
      "Converted 02_data.ipynb.\n",
      "Converted 03_metrics.ipynb.\n",
      "Converted 05_losses.ipynb.\n",
      "Converted 06_utils.ipynb.\n",
      "Converted 07_tta.ipynb.\n",
      "Converted 08_gui.ipynb.\n",
      "Converted 09_gt.ipynb.\n",
      "Converted add_information.ipynb.\n",
      "Converted deepflash2.ipynb.\n",
      "Converted gt_estimation.ipynb.\n",
      "Converted index.ipynb.\n",
      "Converted model_library.ipynb.\n",
      "Converted predict.ipynb.\n",
      "Converted train.ipynb.\n",
      "Converted tutorial.ipynb.\n"
     ]
    }
   ],
   "source": [
    "#hide\n",
    "from nbdev.export import *\n",
    "notebook2script()"
   ]
  }
 ],
 "metadata": {
  "kernelspec": {
   "display_name": "fastai",
   "language": "python",
   "name": "fastai"
  }
 },
 "nbformat": 4,
 "nbformat_minor": 4
}
