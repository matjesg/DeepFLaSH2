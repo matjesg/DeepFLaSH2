{
  "cells": [
    {
      "cell_type": "markdown",
      "metadata": {
        "id": "view-in-github",
        "colab_type": "text"
      },
      "source": [
        "<a href=\"https://colab.research.google.com/github/nicoelbert/deepflash2/blob/master/tutorial_train_and_pred_3channel.ipynb\" target=\"_parent\"><img src=\"https://colab.research.google.com/assets/colab-badge.svg\" alt=\"Open In Colab\"/></a>"
      ]
    },
    {
      "cell_type": "markdown",
      "metadata": {
        "id": "5mngo24-AwE_"
      },
      "source": [
        "<a href=\"https://colab.research.google.com/github/nicoelbert/deepflash2/blob/master/nbs/tutorial_train_and_pred.ipynb\" target=\"_parent\"><img src=\"https://colab.research.google.com/assets/colab-badge.svg\" alt=\"Open In Colab\"/></a>"
      ]
    },
    {
      "cell_type": "markdown",
      "metadata": {
        "id": "RxDLprsbAwFB"
      },
      "source": [
        "# deepflash2 - Train and Predict Tutorial\n",
        "This notebook is optmizied to be executed on Google Colab (https://colab.research.google.com). It reproduces the results of the deepflash2 [paper](https://arxiv.org/abs/2111.06693) for semantic and instance segmentation.\n",
        "\n",
        "\n",
        "*   Please read the instructions carefully.\n",
        "*   Press the the *play* butten to execute the cells. It will show up between \\[     \\] on the left side of the code cells. \n",
        "*   Run the cells consecutively.\n",
        "\n",
        "*References*:\n",
        "\n",
        "Griebel, M., Segebarth, D., Stein, N., Schukraft, N., Tovote, P., Blum, R., & Flath, C. M. (2021). Deep-learning in the bioimaging wild: Handling ambiguous data with deepflash2. arXiv preprint arXiv:2111.06693."
      ]
    },
    {
      "metadata": {
        "colab_type": "toc",
        "id": "-KuRASf8KdW2"
      },
      "cell_type": "markdown",
      "source": [
        ">[deepflash2 - Train and Predict Tutorial](#scrollTo=RxDLprsbAwFB)\n",
        "\n",
        ">>[Setup](#scrollTo=QdQqu0uiAwFB)\n",
        "\n",
        ">>>[Settings](#scrollTo=5e3H5-UVAwFC)\n",
        "\n",
        ">>>[Example Data](#scrollTo=D-tcpoRgAwFE)\n",
        "\n",
        ">>>[Own Data](#scrollTo=feB973ZuAwFM)\n",
        "\n",
        ">>>>[Google Drive & local](#scrollTo=Y5lfcip6AwFM)\n",
        "\n",
        ">>>>[.zip file](#scrollTo=l1GU6IUHAwFM)\n",
        "\n",
        ">>>[Data preprocessing](#scrollTo=VHmM_VSTAwFN)\n",
        "\n",
        ">>[Train models](#scrollTo=8_GWdJM_AwFN)\n",
        "\n",
        ">>[Prediction on test set](#scrollTo=kI3khgKLAwFN)\n",
        "\n"
      ]
    },
    {
      "cell_type": "markdown",
      "metadata": {
        "id": "QdQqu0uiAwFB"
      },
      "source": [
        "## Setup\n",
        "In this section, you will set up the training environment, install all dependencies and connect to the drive with the prepared datasets."
      ]
    },
    {
      "cell_type": "code",
      "execution_count": 1,
      "metadata": {
        "id": "d_xCRop_AwFC"
      },
      "outputs": [],
      "source": [
        "!pip install deepflash2 --q\n",
        "!pip install utils --q\n",
        "\n",
        "# Imports\n",
        "import numpy as np\n",
        "from deepflash2.all import *\n",
        "from pathlib import Path\n",
        "import imageio\n",
        "import shutil"
      ]
    },
    {
      "cell_type": "markdown",
      "source": [
        ""
      ],
      "metadata": {
        "id": "rbz1nKs4Ubz7"
      }
    },
    {
      "cell_type": "markdown",
      "metadata": {
        "id": "5e3H5-UVAwFC"
      },
      "source": [
        "### Settings\n",
        "\n"
      ]
    },
    {
      "cell_type": "markdown",
      "metadata": {
        "id": "oT7B7GIEAwFD"
      },
      "source": [
        "Prior to Training the dataset needs to be selected. If you don't run the notebook in Colab, the `OUTPUT_PATH`and `MODEL_PATH` need to be adjusted to point on existing directorys."
      ]
    },
    {
      "cell_type": "code",
      "execution_count": 2,
      "metadata": {
        "id": "LJoCwVPTAwFD",
        "colab": {
          "base_uri": "https://localhost:8080/",
          "height": 34
        },
        "outputId": "84bc79dd-ab28-41ab-e824-f616098b7e45"
      },
      "outputs": [
        {
          "output_type": "display_data",
          "data": {
            "text/plain": [
              "<IPython.core.display.HTML object>"
            ],
            "text/html": [
              "<style>\n",
              ".tooltip {\n",
              "  position: relative;\n",
              "  display: inline-block;\n",
              "}\n",
              "\n",
              ".tooltip .tooltiptext {\n",
              "  visibility: hidden;\n",
              "  width: max-content;\n",
              "  max-width: 280px;\n",
              "  background-color: #00bcd4;\n",
              "  text-align: left;\n",
              "  color: white;\n",
              "  border-radius: 4px;\n",
              "  padding: 4px 4px;\n",
              "  border: solid 0px black;\n",
              "  line-height: 1em;\n",
              "\n",
              "  /* Position the tooltip */\n",
              "  position: absolute;\n",
              "  z-index: 1;\n",
              "}\n",
              "\n",
              ".tooltip:hover .tooltiptext {\n",
              "  visibility: visible;\n",
              "}\n",
              "</style>"
            ]
          },
          "metadata": {}
        },
        {
          "output_type": "stream",
          "name": "stdout",
          "text": [
            "Drive already mounted at /gdrive; to attempt to forcibly remount, call drive.mount(\"/gdrive\", force_remount=True).\n"
          ]
        }
      ],
      "source": [
        "# Connect to drive\n",
        "try:\n",
        "  from google.colab import drive\n",
        "  drive.mount('/gdrive')\n",
        "except:\n",
        "  print('Google Drive is not available.')\n",
        "\n",
        "SEED = 0 # We used seeds [0,1,2] in our experiemnts\n",
        "OUTPUT_PATH = Path(\"/content/predictions\") # Save predictions here\n",
        "MODEL_PATH = Path(\"/content/models\") # Save models here\n",
        "TRAINED_MODEL_PATH= Path('/gdrive/MyDrive/deepflash2-paper/models/')\n",
        "\n",
        "# deepflash2 config class\n",
        "cfg = Config(random_state=SEED,\n",
        "             instance_labels=True)"
      ]
    },
    {
      "cell_type": "code",
      "source": [
        "####-> move into functions\n",
        "def download_file(url, save_path):\n",
        "    local_filename = save_path\n",
        "    # NOTE the stream=True parameter below\n",
        "    with requests.get(url, stream=True) as r:\n",
        "        r.raise_for_status()\n",
        "        with open(local_filename, 'wb') as f:\n",
        "            for chunk in r.iter_content(chunk_size=8192): \n",
        "                # If you have chunk encoded response uncomment if\n",
        "                # and set chunk_size parameter to None.\n",
        "                #if chunk: \n",
        "                f.write(chunk)\n",
        "\n",
        "    return local_filename\n",
        "\n",
        "def save_mask_int16(mask, path, filetype='.png'):\n",
        "    mask = mask.astype(np.uint16) if np.max(mask)>1 else (mask*656535).astype(np.uint16)\n",
        "    imageio.imsave(path.with_suffix(filetype), mask)"
      ],
      "metadata": {
        "colab": {
          "base_uri": "https://localhost:8080/",
          "height": 17
        },
        "id": "Bpmoyvk0gmVT",
        "outputId": "5f0c52ec-2adf-4ff3-b56b-d9c42eb6315e"
      },
      "execution_count": 3,
      "outputs": [
        {
          "output_type": "display_data",
          "data": {
            "text/plain": [
              "<IPython.core.display.HTML object>"
            ],
            "text/html": [
              "<style>\n",
              ".tooltip {\n",
              "  position: relative;\n",
              "  display: inline-block;\n",
              "}\n",
              "\n",
              ".tooltip .tooltiptext {\n",
              "  visibility: hidden;\n",
              "  width: max-content;\n",
              "  max-width: 280px;\n",
              "  background-color: #00bcd4;\n",
              "  text-align: left;\n",
              "  color: white;\n",
              "  border-radius: 4px;\n",
              "  padding: 4px 4px;\n",
              "  border: solid 0px black;\n",
              "  line-height: 1em;\n",
              "\n",
              "  /* Position the tooltip */\n",
              "  position: absolute;\n",
              "  z-index: 1;\n",
              "}\n",
              "\n",
              ".tooltip:hover .tooltiptext {\n",
              "  visibility: visible;\n",
              "}\n",
              "</style>"
            ]
          },
          "metadata": {}
        }
      ]
    },
    {
      "cell_type": "code",
      "source": [
        "import requests\n",
        "import zipfile\n",
        "\n",
        "url = 'https://drive.google.com/u/0/uc?id=1NKkSQ5T0ZNQ8aUhh0a8Dt2YKYCQXIViw&export=download&confirm=t'\n",
        "!mkdir 'MoNuSegTestData'\n",
        "download_file(url,'MoNuSegTestData/MoNuSegTestData.zip')\n",
        "\n",
        "#download\n",
        "with zipfile.ZipFile('MoNuSegTestData/MoNuSegTestData.zip',\"r\") as zip_ref:\n",
        "            zip_ref.extractall('MoNuSegTestData')"
      ],
      "metadata": {
        "colab": {
          "base_uri": "https://localhost:8080/",
          "height": 34
        },
        "id": "2lndAjVLfi1Y",
        "outputId": "06fd3431-83f8-464b-98c0-f3750e42a7e6"
      },
      "execution_count": 4,
      "outputs": [
        {
          "output_type": "display_data",
          "data": {
            "text/plain": [
              "<IPython.core.display.HTML object>"
            ],
            "text/html": [
              "<style>\n",
              ".tooltip {\n",
              "  position: relative;\n",
              "  display: inline-block;\n",
              "}\n",
              "\n",
              ".tooltip .tooltiptext {\n",
              "  visibility: hidden;\n",
              "  width: max-content;\n",
              "  max-width: 280px;\n",
              "  background-color: #00bcd4;\n",
              "  text-align: left;\n",
              "  color: white;\n",
              "  border-radius: 4px;\n",
              "  padding: 4px 4px;\n",
              "  border: solid 0px black;\n",
              "  line-height: 1em;\n",
              "\n",
              "  /* Position the tooltip */\n",
              "  position: absolute;\n",
              "  z-index: 1;\n",
              "}\n",
              "\n",
              ".tooltip:hover .tooltiptext {\n",
              "  visibility: visible;\n",
              "}\n",
              "</style>"
            ]
          },
          "metadata": {}
        },
        {
          "output_type": "stream",
          "name": "stdout",
          "text": [
            "mkdir: cannot create directory ‘MoNuSegTestData’: File exists\n"
          ]
        }
      ]
    },
    {
      "cell_type": "code",
      "source": [
        "test_data_path = Path('MoNuSegTestData/MoNuSegTestData/')\n",
        "save_path = Path('MoNuSegTestData/masks/')\n",
        "png_path = Path('MoNuSegTestData/masks_imgs/')\n",
        "!mkdir 'MoNuSegTestData/masks/'\n",
        "!mkdir 'MoNuSegTestData/masks_imgs/'"
      ],
      "metadata": {
        "colab": {
          "base_uri": "https://localhost:8080/",
          "height": 52
        },
        "id": "aD5QsbXT3F4d",
        "outputId": "6f4e64b1-f4af-4f98-e5df-12861a9e4670"
      },
      "execution_count": 5,
      "outputs": [
        {
          "output_type": "display_data",
          "data": {
            "text/plain": [
              "<IPython.core.display.HTML object>"
            ],
            "text/html": [
              "<style>\n",
              ".tooltip {\n",
              "  position: relative;\n",
              "  display: inline-block;\n",
              "}\n",
              "\n",
              ".tooltip .tooltiptext {\n",
              "  visibility: hidden;\n",
              "  width: max-content;\n",
              "  max-width: 280px;\n",
              "  background-color: #00bcd4;\n",
              "  text-align: left;\n",
              "  color: white;\n",
              "  border-radius: 4px;\n",
              "  padding: 4px 4px;\n",
              "  border: solid 0px black;\n",
              "  line-height: 1em;\n",
              "\n",
              "  /* Position the tooltip */\n",
              "  position: absolute;\n",
              "  z-index: 1;\n",
              "}\n",
              "\n",
              ".tooltip:hover .tooltiptext {\n",
              "  visibility: visible;\n",
              "}\n",
              "</style>"
            ]
          },
          "metadata": {}
        },
        {
          "output_type": "stream",
          "name": "stdout",
          "text": [
            "mkdir: cannot create directory ‘MoNuSegTestData/masks/’: File exists\n",
            "mkdir: cannot create directory ‘MoNuSegTestData/masks_imgs/’: File exists\n"
          ]
        }
      ]
    },
    {
      "cell_type": "code",
      "source": [
        "#https://drive.google.com/file/d/1NKkSQ5T0ZNQ8aUhh0a8Dt2YKYCQXIViw/view"
      ],
      "metadata": {
        "colab": {
          "base_uri": "https://localhost:8080/",
          "height": 17
        },
        "id": "0iC_U7Wua2Dd",
        "outputId": "3665a53d-f2f7-4dbd-80ec-30f6a2a5809f"
      },
      "execution_count": 6,
      "outputs": [
        {
          "output_type": "display_data",
          "data": {
            "text/plain": [
              "<IPython.core.display.HTML object>"
            ],
            "text/html": [
              "<style>\n",
              ".tooltip {\n",
              "  position: relative;\n",
              "  display: inline-block;\n",
              "}\n",
              "\n",
              ".tooltip .tooltiptext {\n",
              "  visibility: hidden;\n",
              "  width: max-content;\n",
              "  max-width: 280px;\n",
              "  background-color: #00bcd4;\n",
              "  text-align: left;\n",
              "  color: white;\n",
              "  border-radius: 4px;\n",
              "  padding: 4px 4px;\n",
              "  border: solid 0px black;\n",
              "  line-height: 1em;\n",
              "\n",
              "  /* Position the tooltip */\n",
              "  position: absolute;\n",
              "  z-index: 1;\n",
              "}\n",
              "\n",
              ".tooltip:hover .tooltiptext {\n",
              "  visibility: visible;\n",
              "}\n",
              "</style>"
            ]
          },
          "metadata": {}
        }
      ]
    },
    {
      "cell_type": "code",
      "source": [
        ""
      ],
      "metadata": {
        "id": "8ZklnP_HGn-d"
      },
      "execution_count": 6,
      "outputs": []
    },
    {
      "cell_type": "code",
      "source": [
        "\n",
        "#https://github.com/vqdang/hover_net/blob/d743e633ed59e588af6113cae185d4db589b4368/src/misc/proc_kumar_ann.py#L39\n",
        "##\n",
        "## For processing .xml annotation file in Kumar dataset\n",
        "##\n",
        "\n",
        "import glob\n",
        "import os\n",
        "import xml.etree.ElementTree as ET\n",
        "\n",
        "import cv2\n",
        "import numpy as np\n",
        "\n",
        "#from utils import rm_n_mkdir\n",
        "\n",
        "###\n",
        "imgs_dir = test_data_path#\"\" # .tif \n",
        "anns_dir = test_data_path#\"\" # .xml folders\n",
        "save_dir = save_path #\"\" # storing .npy ground truth (HW)\n",
        "\n",
        "file_list = glob.glob((str(imgs_dir) + '*.tif'))\n",
        "file_list.sort() # ensure same order [1]\n",
        "\n",
        "#rm_n_mkdir(save_dir)\n",
        "\n",
        "for filename in file_list: # png for base\n",
        "    filename = os.path.basename(filename)\n",
        "    basename = filename.split('.')[0]\n",
        "\n",
        "    print(basename)\n",
        "    img = cv2.imread(imgs_dir + filename)\n",
        "    img = cv2.cvtColor(img, cv2.COLOR_BGR2RGB)\n",
        "\n",
        "    hw = img.shape[:2]\n",
        "\n",
        "    xml = ET.parse(anns_dir + basename + '.xml')\n",
        "\n",
        "    contour_dbg = np.zeros(hw, np.uint8)\n",
        "\n",
        "    insts_list = []\n",
        "    for idx, region_xml in enumerate(xml.findall('.//Region')):\n",
        "        vertices = []\n",
        "        for vertex_xml in region_xml.findall('.//Vertex'):\n",
        "            attrib = vertex_xml.attrib\n",
        "            vertices.append([float(attrib['X']), \n",
        "                            float(attrib['Y'])])\n",
        "        vertices = np.array(vertices) + 0.5\n",
        "        vertices = vertices.astype('int32')\n",
        "        contour_blb = np.zeros(hw, np.uint8)\n",
        "        # fill both the inner area and contour with idx+1 color\n",
        "        cv2.drawContours(contour_blb, [vertices], 0, idx+1, -1)\n",
        "        insts_list.append(contour_blb)\n",
        "\n",
        "    insts_size_list = np.array(insts_list)\n",
        "    insts_size_list = np.sum(insts_size_list, axis=(1 , 2))\n",
        "    insts_size_list = list(insts_size_list)\n",
        "\n",
        "    pair_insts_list = zip(insts_list, insts_size_list)\n",
        "    # sort in z-axis basing on size, larger on top\n",
        "    pair_insts_list = sorted(pair_insts_list, key=lambda x: x[1])\n",
        "    insts_list, insts_size_list = zip(*pair_insts_list)\n",
        "\n",
        "    ann = np.zeros(hw, np.int32)\n",
        "    for idx, inst_map in enumerate(insts_list):\n",
        "        ann[inst_map > 0] = idx + 1\n",
        "\n",
        "    np.save('%s/%s.npy' % (save_dir, basename), ann)"
      ],
      "metadata": {
        "colab": {
          "base_uri": "https://localhost:8080/",
          "height": 17
        },
        "id": "STlEjejjUdAF",
        "outputId": "25583bfb-50cf-4449-be86-e299a4da644e"
      },
      "execution_count": 7,
      "outputs": [
        {
          "output_type": "display_data",
          "data": {
            "text/plain": [
              "<IPython.core.display.HTML object>"
            ],
            "text/html": [
              "<style>\n",
              ".tooltip {\n",
              "  position: relative;\n",
              "  display: inline-block;\n",
              "}\n",
              "\n",
              ".tooltip .tooltiptext {\n",
              "  visibility: hidden;\n",
              "  width: max-content;\n",
              "  max-width: 280px;\n",
              "  background-color: #00bcd4;\n",
              "  text-align: left;\n",
              "  color: white;\n",
              "  border-radius: 4px;\n",
              "  padding: 4px 4px;\n",
              "  border: solid 0px black;\n",
              "  line-height: 1em;\n",
              "\n",
              "  /* Position the tooltip */\n",
              "  position: absolute;\n",
              "  z-index: 1;\n",
              "}\n",
              "\n",
              ".tooltip:hover .tooltiptext {\n",
              "  visibility: visible;\n",
              "}\n",
              "</style>"
            ]
          },
          "metadata": {}
        }
      ]
    },
    {
      "cell_type": "code",
      "source": [
        ""
      ],
      "metadata": {
        "id": "dGkgLOIBSdHf",
        "outputId": "6c6c6279-2f16-4de0-f637-d6498a7caf0d",
        "colab": {
          "base_uri": "https://localhost:8080/",
          "height": 17
        }
      },
      "execution_count": 8,
      "outputs": [
        {
          "output_type": "display_data",
          "data": {
            "text/plain": [
              "<IPython.core.display.HTML object>"
            ],
            "text/html": [
              "<style>\n",
              ".tooltip {\n",
              "  position: relative;\n",
              "  display: inline-block;\n",
              "}\n",
              "\n",
              ".tooltip .tooltiptext {\n",
              "  visibility: hidden;\n",
              "  width: max-content;\n",
              "  max-width: 280px;\n",
              "  background-color: #00bcd4;\n",
              "  text-align: left;\n",
              "  color: white;\n",
              "  border-radius: 4px;\n",
              "  padding: 4px 4px;\n",
              "  border: solid 0px black;\n",
              "  line-height: 1em;\n",
              "\n",
              "  /* Position the tooltip */\n",
              "  position: absolute;\n",
              "  z-index: 1;\n",
              "}\n",
              "\n",
              ".tooltip:hover .tooltiptext {\n",
              "  visibility: visible;\n",
              "}\n",
              "</style>"
            ]
          },
          "metadata": {}
        }
      ]
    },
    {
      "cell_type": "code",
      "source": [
        "for fn in os.listdir(test_data_path):\n",
        "    print(fn)\n",
        "    filename = os.fsdecode(fn)\n",
        "    mask = np.load(str(test_data_path) + '/'+ fn)\n",
        "    file_path = Path(str(png_path) + '/'+ fn)\n",
        "    save_mask_int16(mask, file_path)"
      ],
      "metadata": {
        "colab": {
          "base_uri": "https://localhost:8080/",
          "height": 374
        },
        "id": "LvdmlonQCcbm",
        "outputId": "9c02d4f6-1a73-4708-9769-2ba007041443"
      },
      "execution_count": 9,
      "outputs": [
        {
          "output_type": "display_data",
          "data": {
            "text/plain": [
              "<IPython.core.display.HTML object>"
            ],
            "text/html": [
              "<style>\n",
              ".tooltip {\n",
              "  position: relative;\n",
              "  display: inline-block;\n",
              "}\n",
              "\n",
              ".tooltip .tooltiptext {\n",
              "  visibility: hidden;\n",
              "  width: max-content;\n",
              "  max-width: 280px;\n",
              "  background-color: #00bcd4;\n",
              "  text-align: left;\n",
              "  color: white;\n",
              "  border-radius: 4px;\n",
              "  padding: 4px 4px;\n",
              "  border: solid 0px black;\n",
              "  line-height: 1em;\n",
              "\n",
              "  /* Position the tooltip */\n",
              "  position: absolute;\n",
              "  z-index: 1;\n",
              "}\n",
              "\n",
              ".tooltip:hover .tooltiptext {\n",
              "  visibility: visible;\n",
              "}\n",
              "</style>"
            ]
          },
          "metadata": {}
        },
        {
          "output_type": "stream",
          "name": "stdout",
          "text": [
            "TCGA-69-7764-01A-01-TS1.xml\n"
          ]
        },
        {
          "output_type": "error",
          "ename": "ValueError",
          "evalue": "ignored",
          "traceback": [
            "\u001b[0;31m---------------------------------------------------------------------------\u001b[0m",
            "\u001b[0;31mValueError\u001b[0m                                Traceback (most recent call last)",
            "\u001b[0;32m<ipython-input-9-765d1f8fc19a>\u001b[0m in \u001b[0;36m<module>\u001b[0;34m()\u001b[0m\n\u001b[1;32m      2\u001b[0m     \u001b[0mprint\u001b[0m\u001b[0;34m(\u001b[0m\u001b[0mfn\u001b[0m\u001b[0;34m)\u001b[0m\u001b[0;34m\u001b[0m\u001b[0;34m\u001b[0m\u001b[0m\n\u001b[1;32m      3\u001b[0m     \u001b[0mfilename\u001b[0m \u001b[0;34m=\u001b[0m \u001b[0mos\u001b[0m\u001b[0;34m.\u001b[0m\u001b[0mfsdecode\u001b[0m\u001b[0;34m(\u001b[0m\u001b[0mfn\u001b[0m\u001b[0;34m)\u001b[0m\u001b[0;34m\u001b[0m\u001b[0;34m\u001b[0m\u001b[0m\n\u001b[0;32m----> 4\u001b[0;31m     \u001b[0mmask\u001b[0m \u001b[0;34m=\u001b[0m \u001b[0mnp\u001b[0m\u001b[0;34m.\u001b[0m\u001b[0mload\u001b[0m\u001b[0;34m(\u001b[0m\u001b[0mstr\u001b[0m\u001b[0;34m(\u001b[0m\u001b[0mtest_data_path\u001b[0m\u001b[0;34m)\u001b[0m \u001b[0;34m+\u001b[0m \u001b[0;34m'/'\u001b[0m\u001b[0;34m+\u001b[0m \u001b[0mfn\u001b[0m\u001b[0;34m)\u001b[0m\u001b[0;34m\u001b[0m\u001b[0;34m\u001b[0m\u001b[0m\n\u001b[0m\u001b[1;32m      5\u001b[0m     \u001b[0mfile_path\u001b[0m \u001b[0;34m=\u001b[0m \u001b[0mPath\u001b[0m\u001b[0;34m(\u001b[0m\u001b[0mstr\u001b[0m\u001b[0;34m(\u001b[0m\u001b[0mpng_path\u001b[0m\u001b[0;34m)\u001b[0m \u001b[0;34m+\u001b[0m \u001b[0;34m'/'\u001b[0m\u001b[0;34m+\u001b[0m \u001b[0mfn\u001b[0m\u001b[0;34m)\u001b[0m\u001b[0;34m\u001b[0m\u001b[0;34m\u001b[0m\u001b[0m\n\u001b[1;32m      6\u001b[0m     \u001b[0msave_mask_int16\u001b[0m\u001b[0;34m(\u001b[0m\u001b[0mmask\u001b[0m\u001b[0;34m,\u001b[0m \u001b[0mfile_path\u001b[0m\u001b[0;34m)\u001b[0m\u001b[0;34m\u001b[0m\u001b[0;34m\u001b[0m\u001b[0m\n",
            "\u001b[0;32m/usr/local/lib/python3.7/dist-packages/numpy/lib/npyio.py\u001b[0m in \u001b[0;36mload\u001b[0;34m(file, mmap_mode, allow_pickle, fix_imports, encoding)\u001b[0m\n\u001b[1;32m    443\u001b[0m             \u001b[0;31m# Try a pickle\u001b[0m\u001b[0;34m\u001b[0m\u001b[0;34m\u001b[0m\u001b[0;34m\u001b[0m\u001b[0m\n\u001b[1;32m    444\u001b[0m             \u001b[0;32mif\u001b[0m \u001b[0;32mnot\u001b[0m \u001b[0mallow_pickle\u001b[0m\u001b[0;34m:\u001b[0m\u001b[0;34m\u001b[0m\u001b[0;34m\u001b[0m\u001b[0m\n\u001b[0;32m--> 445\u001b[0;31m                 raise ValueError(\"Cannot load file containing pickled data \"\n\u001b[0m\u001b[1;32m    446\u001b[0m                                  \"when allow_pickle=False\")\n\u001b[1;32m    447\u001b[0m             \u001b[0;32mtry\u001b[0m\u001b[0;34m:\u001b[0m\u001b[0;34m\u001b[0m\u001b[0;34m\u001b[0m\u001b[0m\n",
            "\u001b[0;31mValueError\u001b[0m: Cannot load file containing pickled data when allow_pickle=False"
          ]
        }
      ]
    },
    {
      "cell_type": "code",
      "source": [
        "train_path = 'MoNuSegTestData/train/'\n",
        "test_path = 'MoNuSegTestData/test/'\n",
        "masks_path = 'MoNuSegTestData/masks/'"
      ],
      "metadata": {
        "id": "FMksC24JDG5d"
      },
      "execution_count": null,
      "outputs": []
    },
    {
      "cell_type": "code",
      "source": [
        "filenames = []\n",
        "\n",
        "#find all tif files and create train test split\n",
        "for file in os.listdir(test_data_path):\n",
        "    filename = os.fsdecode(file)\n",
        "    if filename[-4:] == '.tif':\n",
        "      filenames.append(filename[:-4])\n",
        "\n",
        "train_size = int(len(filenames) * 0.8)\n",
        "print(train_size,len(filenames))\n",
        "\n",
        "train_files = filenames[:train_size]\n",
        "test_files = filenames[train_size:]\n",
        "\n",
        "for fn in filenames:\n",
        "  if fn in test_files:\n",
        "    path = test_path\n",
        "  else:\n",
        "    path = train_path\n",
        "\n",
        "  shutil.copyfile(str(test_data_path) + '/' + fn + '.tif', path + 'images/' + fn + '.tif')\n",
        "  shutil.copyfile(str(png_path) + '/' + fn + '.png', path + 'masks/' + fn + '.png')\n",
        "  \n",
        "\n",
        "train_files"
      ],
      "metadata": {
        "id": "5Los4rfx35iN"
      },
      "execution_count": null,
      "outputs": []
    },
    {
      "cell_type": "code",
      "source": [
        "ls"
      ],
      "metadata": {
        "id": "KKMLwbX6FdVQ"
      },
      "execution_count": null,
      "outputs": []
    },
    {
      "cell_type": "code",
      "source": [
        "test_files"
      ],
      "metadata": {
        "id": "DbuuKacAENbu"
      },
      "execution_count": null,
      "outputs": []
    },
    {
      "cell_type": "code",
      "source": [
        "xml_to_mask()"
      ],
      "metadata": {
        "id": "Ax2sBcwS34tb"
      },
      "execution_count": null,
      "outputs": []
    },
    {
      "cell_type": "markdown",
      "metadata": {
        "id": "fuphRf70AwFE"
      },
      "source": [
        "For training, either the data from a prepared example dataset or own datasets can be used. These can come from a publicly available `.zip` file, or a specified directory in your Google Drive(for colab execution) or on your machine(for local execution)."
      ]
    },
    {
      "cell_type": "code",
      "source": [
        ""
      ],
      "metadata": {
        "id": "kJIrxmSekN9S"
      },
      "execution_count": null,
      "outputs": []
    },
    {
      "cell_type": "code",
      "execution_count": null,
      "metadata": {
        "id": "V-cUCavSAwFE"
      },
      "outputs": [],
      "source": [
        "DATASOURCE = 'ZIP File' #@param [\"Example Data\", \"ZIP File\", \"Own Directory\"]\n"
      ]
    },
    {
      "cell_type": "code",
      "source": [
        "DATASET = 'test_data_set'\n",
        "DATA_PATH = Path('./')"
      ],
      "metadata": {
        "id": "9GRz2ZwoFoLx"
      },
      "execution_count": null,
      "outputs": []
    },
    {
      "cell_type": "markdown",
      "metadata": {
        "id": "D-tcpoRgAwFE"
      },
      "source": [
        "### Example Data"
      ]
    },
    {
      "cell_type": "markdown",
      "metadata": {
        "id": "SBf1ZUk9AwFE"
      },
      "source": [
        "Example data and trained models are available on [Google Drive](https://drive.google.com/drive/folders/1r9AqP9qW9JThbMIvT0jhoA5mPxWEeIjs?usp=sharing). To use the data in Google Colab, create a [**shortcut**](https://support.google.com/drive/answer/9700156?hl=en&co=GENIE.Platform%3DDesktop) of the data folder in your personal Google Drive. This shortcut only has to be created once and doesn't affect your personal Google Drive storage."
      ]
    },
    {
      "cell_type": "markdown",
      "metadata": {
        "id": "UJYvP-WeAwFE"
      },
      "source": [
        "\n",
        "Choose from the perpared dataset from `PV_in_HC`,  `cFOS_in_HC`, `mScarlet_in_PAG`,  `YFP_in_CTX`, `GFAP_in_HC`. Choose the one most similar to yours. A brief describtion of the datasets can be found below. \n"
      ]
    },
    {
      "cell_type": "code",
      "execution_count": null,
      "metadata": {
        "id": "cEDzi4r8AwFF"
      },
      "outputs": [],
      "source": [
        "if DATASOURCE == 'Example Data':\n",
        "  DATASET = 'cFOS_in_HC' #@param [\"PV_in_HC\", \"cFOS_in_HC\", \"mScarlet_in_PAG\", \"YFP_in_CTX\", \"GFAP_in_HC\"]\n",
        "  DATA_PATH = Path('/gdrive/MyDrive/deepflash2-paper/data')\n"
      ]
    },
    {
      "cell_type": "markdown",
      "metadata": {
        "id": "6tLRPC2nAwFF"
      },
      "source": [
        "![image.png](data:image/png;base64,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)"
      ]
    },
    {
      "cell_type": "markdown",
      "metadata": {
        "id": "feB973ZuAwFM"
      },
      "source": [
        "### Own Data\n",
        "\n",
        "To use your own data sets, make sure that the folder structure is a described in the graphics below and adjust the `DATA_PATH` variable. You can either reference a folder from your personal google drive, give the url to a publicly available `.zip` file or reference a local folder if you run the notebook locally. The folder structure in the directory should be like the one shown below.\n",
        "\n",
        "\n",
        "* /`YOUR_DATASET_NAME`\n",
        "    *   /`train`\n",
        "        * /`images`\n",
        "        * /`masks_STAPLE`\n",
        "\n",
        "    *   /`test`(only necessary when testing) \n",
        "        * /`images`\n",
        "        * /`masks_STAPLE`\n",
        "\n",
        "\n"
      ]
    },
    {
      "cell_type": "markdown",
      "metadata": {
        "id": "Y5lfcip6AwFM"
      },
      "source": [
        "#### Google Drive & local\n",
        "To use your own data from the Google Drive, or your machine if you run the notebook locally, change the `DATA_PATH` variable to the correct directory.\n",
        " \n"
      ]
    },
    {
      "cell_type": "code",
      "execution_count": null,
      "metadata": {
        "id": "z65FWlAOAwFM"
      },
      "outputs": [],
      "source": [
        "if DATASOURCE == 'Own Directory':\n",
        "  #specify if the path of your directory\n",
        "  DATA_PATH = Path('/path/to/your/directory')\n",
        "  DATASET = 'your_dataset_name'\n",
        "\n"
      ]
    },
    {
      "cell_type": "markdown",
      "metadata": {
        "id": "l1GU6IUHAwFM"
      },
      "source": [
        "#### .zip file"
      ]
    },
    {
      "cell_type": "markdown",
      "metadata": {
        "id": "0pDIsP2MAwFM"
      },
      "source": [
        "To use the data from a publicly avaialbe zip file, specify the url alongside the name of the dataset folder in the zip file."
      ]
    },
    {
      "cell_type": "code",
      "execution_count": null,
      "metadata": {
        "id": "mq85_nyxAwFM"
      },
      "outputs": [],
      "source": [
        "if DATASOURCE == 'ZIP File':\n",
        "  \n",
        "  #specify url of the .zip file and dataset name\n",
        "  DATASET = 'your_dataset_name'\n",
        "  file_name = 'your_zipfile_name.zip'\n",
        "\n",
        "\n",
        "  from google.colab import files\n",
        "  from zipfile import ZipFile\n",
        "  import os\n",
        "  from pathlib import Path\n",
        "\n",
        "  # define extraction directory and check for existence\n",
        "  \n",
        "  DATA_PATH = Path('/content/data')\n",
        "  if not os.path.isdir(DATA_PATH):\n",
        "      os.makedirs('/content/data')\n",
        "\n",
        "  upload = files.upload()\n",
        "\n",
        "  zip = ZipFile('/content/'+file_name)\n",
        "  zip.extractall(path=DATA_PATH)\n",
        "  "
      ]
    },
    {
      "cell_type": "markdown",
      "metadata": {
        "id": "VHmM_VSTAwFN"
      },
      "source": [
        "### Data preprocessing\n",
        "\n",
        "- Initialize `EnsembleLearner`\n",
        "- Plot images and masks to show if they are correctly loaded"
      ]
    },
    {
      "cell_type": "code",
      "execution_count": null,
      "metadata": {
        "id": "E-2lhvWHAwFN"
      },
      "outputs": [],
      "source": [
        "train_data_path = DATA_PATH/DATASET/'train'\n",
        "ensemble_path = MODEL_PATH/DATASET\n",
        "\n",
        "el = EnsembleLearner(image_dir='images', \n",
        "                     mask_dir='masks', \n",
        "                     config=cfg, \n",
        "                     path=train_data_path, \n",
        "                     ensemble_path=ensemble_path)\n",
        "\n",
        "el.ds.show_data(max_n=2, overlay=True)"
      ]
    },
    {
      "cell_type": "markdown",
      "metadata": {
        "id": "8_GWdJM_AwFN"
      },
      "source": [
        "## Train models\n",
        "\n",
        "- Train model ensemble with 5 models\n",
        "  - 2500 iterations for each model\n",
        "- You can skip this step use the trained models from our paper (see next section)."
      ]
    },
    {
      "cell_type": "code",
      "execution_count": null,
      "metadata": {
        "id": "AG5nw1bWAwFN"
      },
      "outputs": [],
      "source": [
        "n_iter = 2500\n",
        "el.fit_ensemble(n_iter)"
      ]
    },
    {
      "cell_type": "markdown",
      "metadata": {
        "id": "kI3khgKLAwFN"
      },
      "source": [
        "## Prediction on test set\n",
        "\n",
        "We save\n",
        "- Semantic segmentation masks (.png)\n",
        "- Instance segmentation masks (.tif) using the cellpose flow representations\n",
        "- Foreground uncertainty scores *U*\n",
        "\n",
        "To ensure reproducibilty we will use the trained models from our paper!"
      ]
    },
    {
      "cell_type": "code",
      "execution_count": null,
      "metadata": {
        "id": "kcmtiVmtAwFN"
      },
      "outputs": [],
      "source": [
        "test_data_path = DATA_PATH/DATASET/'test'\n",
        "ensemble_trained_path = TRAINED_MODEL_PATH/DATASET/f'{SEED+1}'\n",
        "prediction_path = OUTPUT_PATH/DATASET\n",
        "\n",
        "el_pred = EnsembleLearner('images',\n",
        "                          path=test_data_path, \n",
        "                          config=cfg, \n",
        "                          ensemble_path=ensemble_trained_path) \n",
        "\n",
        "# Predict and save semantic segmentation masks\n",
        "el_pred.get_ensemble_results(el_pred.files, \n",
        "                             use_tta=True, \n",
        "                             export_dir=prediction_path/'masks')\n",
        "# Save uncertainty scores\n",
        "df_unc = el_pred.df_ens[['file', 'ensemble', 'n_models', 'uncertainty_score']]\n",
        "df_unc.to_csv(prediction_path/'uncertainty_scores.csv', index=False)\n",
        "\n",
        "# Show results scores\n",
        "el_pred.show_ensemble_results()"
      ]
    },
    {
      "cell_type": "code",
      "execution_count": null,
      "metadata": {
        "id": "r5ZhyjX3AwFN"
      },
      "outputs": [],
      "source": [
        "# Predict and save instance segmentation masks\n",
        "el_pred.get_cellpose_results(export_dir=prediction_path/'instance_masks')\n",
        "el_pred.show_cellpose_results()"
      ]
    }
  ],
  "metadata": {
    "kernelspec": {
      "display_name": "Python 3",
      "language": "python",
      "name": "python3"
    },
    "colab": {
      "name": "Kopie von tutorial_train_and_pred.ipynb",
      "provenance": [],
      "collapsed_sections": [],
      "include_colab_link": true
    }
  },
  "nbformat": 4,
  "nbformat_minor": 0
}